{
 "cells": [
  {
   "cell_type": "code",
   "execution_count": 1,
   "metadata": {},
   "outputs": [],
   "source": [
    "import pandas as pd\n",
    "import os\n",
    "import pickle\n",
    "from utils import * "
   ]
  },
  {
   "cell_type": "code",
   "execution_count": 2,
   "metadata": {},
   "outputs": [],
   "source": [
    "def from_csv_gt_to_dict(gt_path, gt_file,benchmark_name):\n",
    "    gt = pd.read_csv(os.path.join(gt_path, gt_file))\n",
    "    join_dict = {}\n",
    "    for index, row in gt.iterrows():\n",
    "        query_pair = (row['query_table'], row['query_column'])\n",
    "        candidate_pair = (row['candidate_table'], row['candidate_column'])\n",
    "        if query_pair in join_dict.keys():\n",
    "            join_dict[query_pair].append(candidate_pair)\n",
    "        else:\n",
    "            join_dict[query_pair] = [candidate_pair]\n",
    "    with open(os.path.join(gt_path,f'join_dict_{benchmark_name}.pkl'), 'wb') as f:\n",
    "        pickle.dump(join_dict, f)\n",
    "    return join_dict"
   ]
  },
  {
   "cell_type": "code",
   "execution_count": 4,
   "metadata": {},
   "outputs": [],
   "source": [
    "def join_benchmark_column_names_match_ratio(join_dict):\n",
    "    ratios = []\n",
    "    for key in join_dict.keys():\n",
    "        ttl_candidates = len(join_dict[key])\n",
    "        n_match_col = 0\n",
    "        for candidate in join_dict[key]:\n",
    "            if candidate[1] == key[1]:\n",
    "                n_match_col += 1\n",
    "        ratio = n_match_col/ttl_candidates\n",
    "        ratios.append(ratio)\n",
    "\n",
    "    final = sum(ratios)/len(ratios)\n",
    "    return final"
   ]
  },
  {
   "cell_type": "code",
   "execution_count": 7,
   "metadata": {},
   "outputs": [],
   "source": [
    "def avg_top_k_search(join_dict):\n",
    "    avg = 0\n",
    "    for key in join_dict.keys():\n",
    "        avg += len(join_dict[key])\n",
    "    return avg/len(join_dict.keys())"
   ]
  },
  {
   "cell_type": "code",
   "execution_count": 19,
   "metadata": {},
   "outputs": [],
   "source": [
    "def is_query_in_candidate(join_dict):\n",
    "    counter = 0\n",
    "    for key in join_dict.keys():\n",
    "        if key in join_dict[key]:\n",
    "            counter += 1\n",
    "    return counter"
   ]
  },
  {
   "cell_type": "code",
   "execution_count": 3,
   "metadata": {},
   "outputs": [],
   "source": [
    "benchmark_name = 'webtable'\n",
    "gt_path = f'/Users/alaaalmutawa/Documents/Thesis/lakebench/join/{benchmark_name}'\n",
    "gt_file = f'{benchmark_name}_join_ground_truth.csv'\n",
    "join_dict = from_csv_gt_to_dict(gt_path, gt_file,benchmark_name)"
   ]
  },
  {
   "cell_type": "code",
   "execution_count": 26,
   "metadata": {},
   "outputs": [
    {
     "name": "stdout",
     "output_type": "stream",
     "text": [
      "number of queries: 128 in benchmark opendata\n",
      "ratio of candidate column names that align query column name: 1.0 in opendata\n",
      "number of queries: 2169 in benchmark webtable\n",
      "ratio of candidate column names that align query column name: 1.0 in webtable\n",
      "number of queries: 313 in benchmark webtables_small\n",
      "ratio of candidate column names that align query column name: 1.0 in webtables_small\n",
      "number of queries: 205 in benchmark webtables_small_var2\n",
      "ratio of candidate column names that align query column name: 1.0 in webtables_small_var2\n",
      "number of queries: 184 in benchmark nextiajd_small\n",
      "ratio of candidate column names that align query column name: 0.3767899220344875 in nextiajd_small\n",
      "number of queries: 177 in benchmark nextiajd_small_var2\n",
      "ratio of candidate column names that align query column name: 0.3902787890076028 in nextiajd_small_var2\n",
      "number of queries: 15 in benchmark nextiajd_small_var3\n",
      "ratio of candidate column names that align query column name: 0.07314685314685314 in nextiajd_small_var3\n",
      "number of queries: 189 in benchmark nextiajd_medium\n",
      "ratio of candidate column names that align query column name: 0.2905717225161671 in nextiajd_medium\n"
     ]
    }
   ],
   "source": [
    "join_dict_path = ['/Users/alaaalmutawa/Documents/Thesis/lakebench/join/opendata/join_dict_opendata.pkl','/Users/alaaalmutawa/Documents/Thesis/lakebench/join/webtable/join_dict_webtable.pkl','/Users/alaaalmutawa/Documents/Thesis/lakebench/join/webtable/small/join_dict_webtable_small.pkl','/Users/alaaalmutawa/Documents/Thesis/lakebench/join/webtable/small_var2/join_dict_webtables_small_var2.pkl','/Users/alaaalmutawa/Documents/Thesis/nextiajd/testbedS/warpgate/join_dict_testbedS_warpgate.pkl','/Users/alaaalmutawa/Documents/Thesis/nextiajd/testbedS/join_dict_testbedS_warpgate_non-numerical_test.pkl','/Users/alaaalmutawa/Documents/Thesis/nextiajd/testbedS/10_candidates_non-numerical/join_dict_testbedS_10_non-numerical.pkl','/Users/alaaalmutawa/Documents/Thesis/nextiajd/testbedM/warpgate/join_dict_testbedM_warpgate.pkl'  ]\n",
    "benchmark_names = ['opendata','webtable','webtables_small','webtables_small_var2','nextiajd_small','nextiajd_small_var2','nextiajd_small_var3','nextiajd_medium']\n",
    "queries_count = []\n",
    "alignment = []\n",
    "ratio = []\n",
    "avg_number_of_candidates = []\n",
    "query_in_candidates = []\n",
    "\n",
    "for i in range(len(join_dict_path)):\n",
    "    with open(join_dict_path[i], 'rb') as f:\n",
    "        join_dict = pickle.load(f)\n",
    "    match_ratio = join_benchmark_column_names_match_ratio(join_dict)\n",
    "    queries_count.append(len(join_dict))\n",
    "    alignment.append(match_ratio)\n",
    "    print(f'number of queries: {len(join_dict)} in benchmark {benchmark_names[i]}')\n",
    "    print(f'ratio of candidate column names that align query column name: {match_ratio} in {benchmark_names[i]}')"
   ]
  },
  {
   "cell_type": "code",
   "execution_count": 27,
   "metadata": {},
   "outputs": [
    {
     "name": "stdout",
     "output_type": "stream",
     "text": [
      "average number of candidates per query: 8.890625 in opendata\n",
      "average number of candidates per query: 15.907330567081605 in webtable\n",
      "average number of candidates per query: 2.9680511182108624 in webtables_small\n",
      "average number of candidates per query: 23.829268292682926 in webtables_small_var2\n",
      "average number of candidates per query: 3.5706521739130435 in nextiajd_small\n",
      "average number of candidates per query: 3.5480225988700567 in nextiajd_small_var2\n",
      "average number of candidates per query: 12.466666666666667 in nextiajd_small_var3\n",
      "average number of candidates per query: 4.37037037037037 in nextiajd_medium\n"
     ]
    }
   ],
   "source": [
    "for i in range(len(join_dict_path)):\n",
    "    with open(join_dict_path[i], 'rb') as f:\n",
    "        join_dict = pickle.load(f)\n",
    "    avg = avg_top_k_search(join_dict)\n",
    "    avg_number_of_candidates.append(avg)\n",
    "    print(f'average number of candidates per query: {avg} in {benchmark_names[i]}')"
   ]
  },
  {
   "cell_type": "code",
   "execution_count": 28,
   "metadata": {},
   "outputs": [
    {
     "name": "stdout",
     "output_type": "stream",
     "text": [
      "Some queries are in the candidates 123 out of 128 ratio 0.9609375 in opendata\n",
      "Some queries are in the candidates 1141 out of 2169 ratio 0.5260488704472107 in webtable\n",
      "Some queries are in the candidates 149 out of 313 ratio 0.476038338658147 in webtables_small\n",
      "Some queries are in the candidates 130 out of 205 ratio 0.6341463414634146 in webtables_small_var2\n",
      "No queries are in the candidates in nextiajd_small\n",
      "No queries are in the candidates in nextiajd_small_var2\n",
      "No queries are in the candidates in nextiajd_small_var3\n",
      "No queries are in the candidates in nextiajd_medium\n"
     ]
    }
   ],
   "source": [
    "for i in range(len(join_dict_path)):\n",
    "    with open(join_dict_path[i], 'rb') as f:\n",
    "        join_dict = pickle.load(f)\n",
    "    counter = is_query_in_candidate(join_dict)\n",
    "    if counter == len(join_dict.keys()):\n",
    "        print(f'All queries are in the candidates {counter} out of {len(join_dict.keys())} ratio {counter/len(join_dict.keys())} in {benchmark_names[i]}')\n",
    "    elif counter > 0:\n",
    "        print(f'Some queries are in the candidates {counter} out of {len(join_dict.keys())} ratio {counter/len(join_dict.keys())} in {benchmark_names[i]}')\n",
    "    else:\n",
    "        print(f'No queries are in the candidates in {benchmark_names[i]}')\n",
    "    query_in_candidates.append(counter)\n",
    "    "
   ]
  },
  {
   "cell_type": "code",
   "execution_count": 30,
   "metadata": {},
   "outputs": [],
   "source": [
    "summary_df = pd.DataFrame({'benchmark':benchmark_names,'queries_count':queries_count,'alignment':alignment,'avg_number_of_candidates':avg_number_of_candidates,'query_in_candidates':query_in_candidates})"
   ]
  },
  {
   "cell_type": "code",
   "execution_count": 33,
   "metadata": {},
   "outputs": [],
   "source": [
    "summary_df.to_csv('join_benchmark_summary.csv',index=False)\n"
   ]
  },
  {
   "cell_type": "code",
   "execution_count": 34,
   "metadata": {},
   "outputs": [
    {
     "data": {
      "text/html": [
       "<div>\n",
       "<style scoped>\n",
       "    .dataframe tbody tr th:only-of-type {\n",
       "        vertical-align: middle;\n",
       "    }\n",
       "\n",
       "    .dataframe tbody tr th {\n",
       "        vertical-align: top;\n",
       "    }\n",
       "\n",
       "    .dataframe thead th {\n",
       "        text-align: right;\n",
       "    }\n",
       "</style>\n",
       "<table border=\"1\" class=\"dataframe\">\n",
       "  <thead>\n",
       "    <tr style=\"text-align: right;\">\n",
       "      <th></th>\n",
       "      <th>benchmark</th>\n",
       "      <th>queries_count</th>\n",
       "      <th>alignment</th>\n",
       "      <th>avg_number_of_candidates</th>\n",
       "      <th>query_in_candidates</th>\n",
       "    </tr>\n",
       "  </thead>\n",
       "  <tbody>\n",
       "    <tr>\n",
       "      <th>0</th>\n",
       "      <td>opendata</td>\n",
       "      <td>128</td>\n",
       "      <td>1.000000</td>\n",
       "      <td>8.890625</td>\n",
       "      <td>123</td>\n",
       "    </tr>\n",
       "    <tr>\n",
       "      <th>1</th>\n",
       "      <td>webtable</td>\n",
       "      <td>2169</td>\n",
       "      <td>1.000000</td>\n",
       "      <td>15.907331</td>\n",
       "      <td>1141</td>\n",
       "    </tr>\n",
       "    <tr>\n",
       "      <th>2</th>\n",
       "      <td>webtables_small</td>\n",
       "      <td>313</td>\n",
       "      <td>1.000000</td>\n",
       "      <td>2.968051</td>\n",
       "      <td>149</td>\n",
       "    </tr>\n",
       "    <tr>\n",
       "      <th>3</th>\n",
       "      <td>webtables_small_var2</td>\n",
       "      <td>205</td>\n",
       "      <td>1.000000</td>\n",
       "      <td>23.829268</td>\n",
       "      <td>130</td>\n",
       "    </tr>\n",
       "    <tr>\n",
       "      <th>4</th>\n",
       "      <td>nextiajd_small</td>\n",
       "      <td>184</td>\n",
       "      <td>0.376790</td>\n",
       "      <td>3.570652</td>\n",
       "      <td>0</td>\n",
       "    </tr>\n",
       "    <tr>\n",
       "      <th>5</th>\n",
       "      <td>nextiajd_small_var2</td>\n",
       "      <td>177</td>\n",
       "      <td>0.390279</td>\n",
       "      <td>3.548023</td>\n",
       "      <td>0</td>\n",
       "    </tr>\n",
       "    <tr>\n",
       "      <th>6</th>\n",
       "      <td>nextiajd_small_var3</td>\n",
       "      <td>15</td>\n",
       "      <td>0.073147</td>\n",
       "      <td>12.466667</td>\n",
       "      <td>0</td>\n",
       "    </tr>\n",
       "    <tr>\n",
       "      <th>7</th>\n",
       "      <td>nextiajd_medium</td>\n",
       "      <td>189</td>\n",
       "      <td>0.290572</td>\n",
       "      <td>4.370370</td>\n",
       "      <td>0</td>\n",
       "    </tr>\n",
       "  </tbody>\n",
       "</table>\n",
       "</div>"
      ],
      "text/plain": [
       "              benchmark  queries_count  alignment  avg_number_of_candidates  \\\n",
       "0              opendata            128   1.000000                  8.890625   \n",
       "1              webtable           2169   1.000000                 15.907331   \n",
       "2       webtables_small            313   1.000000                  2.968051   \n",
       "3  webtables_small_var2            205   1.000000                 23.829268   \n",
       "4        nextiajd_small            184   0.376790                  3.570652   \n",
       "5   nextiajd_small_var2            177   0.390279                  3.548023   \n",
       "6   nextiajd_small_var3             15   0.073147                 12.466667   \n",
       "7       nextiajd_medium            189   0.290572                  4.370370   \n",
       "\n",
       "   query_in_candidates  \n",
       "0                  123  \n",
       "1                 1141  \n",
       "2                  149  \n",
       "3                  130  \n",
       "4                    0  \n",
       "5                    0  \n",
       "6                    0  \n",
       "7                    0  "
      ]
     },
     "execution_count": 34,
     "metadata": {},
     "output_type": "execute_result"
    }
   ],
   "source": [
    "summary_df"
   ]
  },
  {
   "cell_type": "code",
   "execution_count": 35,
   "metadata": {},
   "outputs": [],
   "source": [
    "explaination = {\n",
    "    'keyword':['benchmark','queries_count','alignment','avg_number_of_candidates','query_in_candidates'],\n",
    "    'explaination':['The name of the benchmark','The number of queries in the benchmark','The ratio of column names matches that syntactically aligns with the query column name','The average number of matches per query in the benchmark','The number of queries that are in the candidates']\n",
    "}\n",
    "explaination_df = pd.DataFrame(explaination)"
   ]
  },
  {
   "cell_type": "code",
   "execution_count": 36,
   "metadata": {},
   "outputs": [
    {
     "data": {
      "text/html": [
       "<div>\n",
       "<style scoped>\n",
       "    .dataframe tbody tr th:only-of-type {\n",
       "        vertical-align: middle;\n",
       "    }\n",
       "\n",
       "    .dataframe tbody tr th {\n",
       "        vertical-align: top;\n",
       "    }\n",
       "\n",
       "    .dataframe thead th {\n",
       "        text-align: right;\n",
       "    }\n",
       "</style>\n",
       "<table border=\"1\" class=\"dataframe\">\n",
       "  <thead>\n",
       "    <tr style=\"text-align: right;\">\n",
       "      <th></th>\n",
       "      <th>keyword</th>\n",
       "      <th>explaination</th>\n",
       "    </tr>\n",
       "  </thead>\n",
       "  <tbody>\n",
       "    <tr>\n",
       "      <th>0</th>\n",
       "      <td>benchmark</td>\n",
       "      <td>The name of the benchmark</td>\n",
       "    </tr>\n",
       "    <tr>\n",
       "      <th>1</th>\n",
       "      <td>queries_count</td>\n",
       "      <td>The number of queries in the benchmark</td>\n",
       "    </tr>\n",
       "    <tr>\n",
       "      <th>2</th>\n",
       "      <td>alignment</td>\n",
       "      <td>The ratio of column names matches that syntact...</td>\n",
       "    </tr>\n",
       "    <tr>\n",
       "      <th>3</th>\n",
       "      <td>avg_number_of_candidates</td>\n",
       "      <td>The average number of matches per query in the...</td>\n",
       "    </tr>\n",
       "    <tr>\n",
       "      <th>4</th>\n",
       "      <td>query_in_candidates</td>\n",
       "      <td>The number of queries that are in the candidates</td>\n",
       "    </tr>\n",
       "  </tbody>\n",
       "</table>\n",
       "</div>"
      ],
      "text/plain": [
       "                    keyword                                       explaination\n",
       "0                 benchmark                          The name of the benchmark\n",
       "1             queries_count             The number of queries in the benchmark\n",
       "2                 alignment  The ratio of column names matches that syntact...\n",
       "3  avg_number_of_candidates  The average number of matches per query in the...\n",
       "4       query_in_candidates   The number of queries that are in the candidates"
      ]
     },
     "execution_count": 36,
     "metadata": {},
     "output_type": "execute_result"
    }
   ],
   "source": [
    "explaination_df"
   ]
  }
 ],
 "metadata": {
  "kernelspec": {
   "display_name": "starmie_env",
   "language": "python",
   "name": "python3"
  },
  "language_info": {
   "codemirror_mode": {
    "name": "ipython",
    "version": 3
   },
   "file_extension": ".py",
   "mimetype": "text/x-python",
   "name": "python",
   "nbconvert_exporter": "python",
   "pygments_lexer": "ipython3",
   "version": "3.8.19"
  }
 },
 "nbformat": 4,
 "nbformat_minor": 2
}
